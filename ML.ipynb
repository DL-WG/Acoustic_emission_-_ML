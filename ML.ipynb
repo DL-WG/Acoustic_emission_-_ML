{
  "nbformat": 4,
  "nbformat_minor": 0,
  "metadata": {
    "colab": {
      "provenance": []
    },
    "kernelspec": {
      "name": "python3",
      "display_name": "Python 3"
    },
    "language_info": {
      "name": "python"
    }
  },
  "cells": [
    {
      "cell_type": "code",
      "execution_count": null,
      "metadata": {
        "colab": {
          "base_uri": "https://localhost:8080/"
        },
        "id": "dyawi823Je4g",
        "outputId": "033486d8-26c8-4da8-a453-e724bd062283"
      },
      "outputs": [
        {
          "output_type": "stream",
          "name": "stdout",
          "text": [
            "Mounted at /content/drive\n"
          ]
        }
      ],
      "source": [
        "import pandas as pd\n",
        "import numpy as np\n",
        "import matplotlib.pyplot as plt\n",
        "import seaborn as sns\n",
        "\n",
        "from sklearn.tree import DecisionTreeClassifier\n",
        "from sklearn.metrics import classification_report,confusion_matrix\n",
        "from IPython.display import Image\n",
        "from six import StringIO\n",
        "from sklearn.tree import export_graphviz\n",
        "\n",
        "from google.colab import drive\n",
        "drive.mount('/content/drive')"
      ]
    },
    {
      "cell_type": "code",
      "source": [
        "from sklearn.model_selection import train_test_split\n",
        "from sklearn.pipeline import make_pipeline\n",
        "from sklearn.linear_model import LinearRegression\n",
        "from sklearn.preprocessing import StandardScaler\n",
        "from sklearn.decomposition import PCA\n",
        "from sklearn.cross_decomposition import PLSRegression\n",
        "from sklearn.ensemble import RandomForestRegressor\n",
        "from sklearn.ensemble import GradientBoostingRegressor\n",
        "from sklearn.metrics import mean_squared_error,r2_score,mean_absolute_error,mean_absolute_percentage_error"
      ],
      "metadata": {
        "id": "guv3fCE5vYy1"
      },
      "execution_count": null,
      "outputs": []
    },
    {
      "cell_type": "code",
      "source": [
        "df1 = pd.read_excel('drive/MyDrive/Fria/data/ML_Sample1.xlsx')\n",
        "df2 = pd.read_excel('drive/MyDrive/Fria/data/ML_Sample2.xlsx')\n",
        "df3 = pd.read_excel('drive/MyDrive/Fria/data/ML_Sample3.xlsx')\n",
        "df4 = pd.read_excel('drive/MyDrive/Fria/data/ML_Sample4.xlsx')\n",
        "frames = [df1, df2, df3]\n",
        "df = pd.concat(frames)\n",
        "print(df)"
      ],
      "metadata": {
        "colab": {
          "base_uri": "https://localhost:8080/"
        },
        "id": "6eRRPj-JJf9x",
        "outputId": "e843b362-f9e8-4d31-ad80-d9a864366bf7"
      },
      "execution_count": null,
      "outputs": [
        {
          "output_type": "stream",
          "name": "stdout",
          "text": [
            "      Frequency  Particle velocity  Kinetic Energy  Particle diameter\n",
            "0      0.000134           4.624926    1.406277e+10           100.1500\n",
            "1      0.000060           4.621465    1.407331e+10           100.2250\n",
            "2      0.000063           4.618009    1.408384e+10           100.3000\n",
            "3      0.000084           4.614558    1.409437e+10           100.3750\n",
            "4      0.000062           4.611113    1.410490e+10           100.4500\n",
            "...         ...                ...             ...                ...\n",
            "1995   0.000615           3.805730    8.629973e+11           449.8575\n",
            "1996   0.000136           3.805328    8.630885e+11           449.9050\n",
            "1997   0.000511           3.804926    8.631796e+11           449.9525\n",
            "1998   0.000754           3.804525    8.632707e+11           450.0000\n",
            "1999   0.000236           3.804525    8.632707e+11           450.0000\n",
            "\n",
            "[6000 rows x 4 columns]\n"
          ]
        }
      ]
    },
    {
      "cell_type": "code",
      "source": [
        "X = np.array(df)[:,:3]\n",
        "y = np.array(df)[:,3]"
      ],
      "metadata": {
        "id": "EzBGg3hmLk6H"
      },
      "execution_count": null,
      "outputs": []
    },
    {
      "cell_type": "code",
      "source": [
        "np.corrcoef(np.array(df)[:,1],np.array(df)[:,2])"
      ],
      "metadata": {
        "colab": {
          "base_uri": "https://localhost:8080/"
        },
        "id": "-G1dNiJ96c7z",
        "outputId": "cc4da874-0fdb-4d55-b8a3-3c8e02aef923"
      },
      "execution_count": null,
      "outputs": [
        {
          "output_type": "execute_result",
          "data": {
            "text/plain": [
              "array([[1.        , 0.64821841],\n",
              "       [0.64821841, 1.        ]])"
            ]
          },
          "metadata": {},
          "execution_count": 14
        }
      ]
    },
    {
      "cell_type": "code",
      "source": [
        "#from sklearn.model_selection import train_test_split\n",
        "#X_train, X_test, y_train, y_test = train_test_split (X, y, test_size=0.8, random_state=1)"
      ],
      "metadata": {
        "id": "h1FUmodIusoy"
      },
      "execution_count": null,
      "outputs": []
    },
    {
      "cell_type": "code",
      "source": [
        "from sklearn.model_selection import train_test_split\n",
        "\n",
        "train_ratio = 0.6\n",
        "validation_ratio = 0.2\n",
        "test_ratio = 0.2\n",
        "\n",
        "# train is now 75% of the entire data set\n",
        "# the _junk suffix means that we drop that variable completely\n",
        "x_train, x_test, y_train, y_test = train_test_split(X, y, test_size=1 - train_ratio)\n",
        "\n",
        "# test is now 10% of the initial data set\n",
        "# validation is now 15% of the initial data set\n",
        "x_val, x_test, y_val, y_test = train_test_split(x_test, y_test, test_size=test_ratio/(test_ratio + validation_ratio))\n",
        "\n",
        "#print(x_train, x_val, x_test)"
      ],
      "metadata": {
        "id": "yT-dHOxNknHK"
      },
      "execution_count": null,
      "outputs": []
    },
    {
      "cell_type": "code",
      "source": [
        "model = GradientBoostingRegressor()\n",
        "#model = RandomForestRegressor( max_depth=100)\n",
        "# evaluate the model\n",
        "model.fit(x_train, y_train)"
      ],
      "metadata": {
        "colab": {
          "base_uri": "https://localhost:8080/",
          "height": 74
        },
        "id": "wrbidSCHu9sK",
        "outputId": "3c6de14d-261b-432f-b0a2-f0bafb11b52e"
      },
      "execution_count": null,
      "outputs": [
        {
          "output_type": "execute_result",
          "data": {
            "text/plain": [
              "GradientBoostingRegressor()"
            ],
            "text/html": [
              "<style>#sk-container-id-1 {color: black;background-color: white;}#sk-container-id-1 pre{padding: 0;}#sk-container-id-1 div.sk-toggleable {background-color: white;}#sk-container-id-1 label.sk-toggleable__label {cursor: pointer;display: block;width: 100%;margin-bottom: 0;padding: 0.3em;box-sizing: border-box;text-align: center;}#sk-container-id-1 label.sk-toggleable__label-arrow:before {content: \"▸\";float: left;margin-right: 0.25em;color: #696969;}#sk-container-id-1 label.sk-toggleable__label-arrow:hover:before {color: black;}#sk-container-id-1 div.sk-estimator:hover label.sk-toggleable__label-arrow:before {color: black;}#sk-container-id-1 div.sk-toggleable__content {max-height: 0;max-width: 0;overflow: hidden;text-align: left;background-color: #f0f8ff;}#sk-container-id-1 div.sk-toggleable__content pre {margin: 0.2em;color: black;border-radius: 0.25em;background-color: #f0f8ff;}#sk-container-id-1 input.sk-toggleable__control:checked~div.sk-toggleable__content {max-height: 200px;max-width: 100%;overflow: auto;}#sk-container-id-1 input.sk-toggleable__control:checked~label.sk-toggleable__label-arrow:before {content: \"▾\";}#sk-container-id-1 div.sk-estimator input.sk-toggleable__control:checked~label.sk-toggleable__label {background-color: #d4ebff;}#sk-container-id-1 div.sk-label input.sk-toggleable__control:checked~label.sk-toggleable__label {background-color: #d4ebff;}#sk-container-id-1 input.sk-hidden--visually {border: 0;clip: rect(1px 1px 1px 1px);clip: rect(1px, 1px, 1px, 1px);height: 1px;margin: -1px;overflow: hidden;padding: 0;position: absolute;width: 1px;}#sk-container-id-1 div.sk-estimator {font-family: monospace;background-color: #f0f8ff;border: 1px dotted black;border-radius: 0.25em;box-sizing: border-box;margin-bottom: 0.5em;}#sk-container-id-1 div.sk-estimator:hover {background-color: #d4ebff;}#sk-container-id-1 div.sk-parallel-item::after {content: \"\";width: 100%;border-bottom: 1px solid gray;flex-grow: 1;}#sk-container-id-1 div.sk-label:hover label.sk-toggleable__label {background-color: #d4ebff;}#sk-container-id-1 div.sk-serial::before {content: \"\";position: absolute;border-left: 1px solid gray;box-sizing: border-box;top: 0;bottom: 0;left: 50%;z-index: 0;}#sk-container-id-1 div.sk-serial {display: flex;flex-direction: column;align-items: center;background-color: white;padding-right: 0.2em;padding-left: 0.2em;position: relative;}#sk-container-id-1 div.sk-item {position: relative;z-index: 1;}#sk-container-id-1 div.sk-parallel {display: flex;align-items: stretch;justify-content: center;background-color: white;position: relative;}#sk-container-id-1 div.sk-item::before, #sk-container-id-1 div.sk-parallel-item::before {content: \"\";position: absolute;border-left: 1px solid gray;box-sizing: border-box;top: 0;bottom: 0;left: 50%;z-index: -1;}#sk-container-id-1 div.sk-parallel-item {display: flex;flex-direction: column;z-index: 1;position: relative;background-color: white;}#sk-container-id-1 div.sk-parallel-item:first-child::after {align-self: flex-end;width: 50%;}#sk-container-id-1 div.sk-parallel-item:last-child::after {align-self: flex-start;width: 50%;}#sk-container-id-1 div.sk-parallel-item:only-child::after {width: 0;}#sk-container-id-1 div.sk-dashed-wrapped {border: 1px dashed gray;margin: 0 0.4em 0.5em 0.4em;box-sizing: border-box;padding-bottom: 0.4em;background-color: white;}#sk-container-id-1 div.sk-label label {font-family: monospace;font-weight: bold;display: inline-block;line-height: 1.2em;}#sk-container-id-1 div.sk-label-container {text-align: center;}#sk-container-id-1 div.sk-container {/* jupyter's `normalize.less` sets `[hidden] { display: none; }` but bootstrap.min.css set `[hidden] { display: none !important; }` so we also need the `!important` here to be able to override the default hidden behavior on the sphinx rendered scikit-learn.org. See: https://github.com/scikit-learn/scikit-learn/issues/21755 */display: inline-block !important;position: relative;}#sk-container-id-1 div.sk-text-repr-fallback {display: none;}</style><div id=\"sk-container-id-1\" class=\"sk-top-container\"><div class=\"sk-text-repr-fallback\"><pre>GradientBoostingRegressor()</pre><b>In a Jupyter environment, please rerun this cell to show the HTML representation or trust the notebook. <br />On GitHub, the HTML representation is unable to render, please try loading this page with nbviewer.org.</b></div><div class=\"sk-container\" hidden><div class=\"sk-item\"><div class=\"sk-estimator sk-toggleable\"><input class=\"sk-toggleable__control sk-hidden--visually\" id=\"sk-estimator-id-1\" type=\"checkbox\" checked><label for=\"sk-estimator-id-1\" class=\"sk-toggleable__label sk-toggleable__label-arrow\">GradientBoostingRegressor</label><div class=\"sk-toggleable__content\"><pre>GradientBoostingRegressor()</pre></div></div></div></div></div>"
            ]
          },
          "metadata": {},
          "execution_count": 7
        }
      ]
    },
    {
      "cell_type": "code",
      "source": [
        "model.predict(x_test)"
      ],
      "metadata": {
        "colab": {
          "base_uri": "https://localhost:8080/"
        },
        "id": "XNzcizuOyggU",
        "outputId": "440b3786-3b32-49a7-ff24-cc9ad7368f7a"
      },
      "execution_count": null,
      "outputs": [
        {
          "output_type": "execute_result",
          "data": {
            "text/plain": [
              "array([370.4857487 , 190.21851295, 429.12540528, ..., 357.08856174,\n",
              "       354.71392438, 219.20133996])"
            ]
          },
          "metadata": {},
          "execution_count": 8
        }
      ]
    },
    {
      "cell_type": "code",
      "source": [
        "plt.hist(model.predict(x_test))"
      ],
      "metadata": {
        "colab": {
          "base_uri": "https://localhost:8080/",
          "height": 352
        },
        "id": "4k7LNRNYypWR",
        "outputId": "b18a73f4-e164-45d1-a07b-5fb60e151b29"
      },
      "execution_count": null,
      "outputs": [
        {
          "output_type": "execute_result",
          "data": {
            "text/plain": [
              "(array([ 82.,  74., 101.,  85., 106., 144., 139., 162., 140., 167.]),\n",
              " array([100.81079705, 135.6659895 , 170.52118196, 205.37637441,\n",
              "        240.23156687, 275.08675932, 309.94195178, 344.79714423,\n",
              "        379.65233669, 414.50752914, 449.3627216 ]),\n",
              " <a list of 10 Patch objects>)"
            ]
          },
          "metadata": {},
          "execution_count": 11
        },
        {
          "output_type": "display_data",
          "data": {
            "text/plain": [
              "<Figure size 432x288 with 1 Axes>"
            ],
            "image/png": "[encoded data removed]"
          },
          "metadata": {
            "needs_background": "light"
          }
        }
      ]
    },
    {
      "cell_type": "code",
      "source": [
        "plt.hist(y_test,density=True,edgecolor = \"black\",alpha = 0.2)\n",
        "plt.xlabel('diameter',fontsize = 16)\n",
        "plt.ylabel('density',fontsize = 16)\n",
        "\n",
        "plt.savefig('drive/MyDrive/Fria/hist_true.png', format='png', bbox_inches='tight')\n",
        "#plt.savefig('drive/MyDrive/Fria/hist.png', format='png', bbox_inches='tight')"
      ],
      "metadata": {
        "colab": {
          "base_uri": "https://localhost:8080/",
          "height": 455
        },
        "id": "_4NVHPgcl4Vj",
        "outputId": "5e62b459-8e0f-4795-b882-eb5b7e99d7e7"
      },
      "execution_count": null,
      "outputs": [
        {
          "output_type": "display_data",
          "data": {
            "text/plain": [
              "<Figure size 640x480 with 1 Axes>"
            ],
            "image/png": "[encoded data removed]"
          },
          "metadata": {}
        }
      ]
    },
    {
      "cell_type": "code",
      "source": [
        "plt.hist(model.predict(x_test),density=True,color='red',edgecolor = \"black\",alpha = 0.2)\n",
        "plt.xlabel('diameter',fontsize = 16)\n",
        "plt.ylabel('density',fontsize = 16)\n",
        "\n",
        "plt.savefig('drive/MyDrive/Fria/hist_predict.png', format='png', bbox_inches='tight')\n",
        "#plt.savefig('drive/MyDrive/Fria/hist.png', format='png', bbox_inches='tight')"
      ],
      "metadata": {
        "colab": {
          "base_uri": "https://localhost:8080/",
          "height": 455
        },
        "id": "fgrcXuqzQ5kC",
        "outputId": "105bd9d5-6924-4a82-d808-fb9eb4d54c9a"
      },
      "execution_count": null,
      "outputs": [
        {
          "output_type": "display_data",
          "data": {
            "text/plain": [
              "<Figure size 640x480 with 1 Axes>"
            ],
            "image/png": "[encoded data removed]"
          },
          "metadata": {}
        }
      ]
    },
    {
      "cell_type": "code",
      "source": [
        "plt.plot(model.predict(x_test),y_test,'bo',label='Particle diameter')\n",
        "plt.plot(y_test,y_test,'r',label ='truth')\n",
        "plt.xlabel('prediction',fontsize = 18)\n",
        "plt.ylabel('truth',fontsize = 18)\n",
        "plt.title('Random Forest',fontsize = 18)\n",
        "plt.legend(fontsize=16)"
      ],
      "metadata": {
        "colab": {
          "base_uri": "https://localhost:8080/",
          "height": 324
        },
        "id": "ypYAXBbeyrRb",
        "outputId": "6bd115d2-ca7e-4b61-8829-d6725b6a35f5"
      },
      "execution_count": null,
      "outputs": [
        {
          "output_type": "execute_result",
          "data": {
            "text/plain": [
              "<matplotlib.legend.Legend at 0x7f6c178641f0>"
            ]
          },
          "metadata": {},
          "execution_count": 10
        },
        {
          "output_type": "display_data",
          "data": {
            "text/plain": [
              "<Figure size 432x288 with 1 Axes>"
            ],
            "image/png": "[encoded data removed]"
          },
          "metadata": {
            "needs_background": "light"
          }
        }
      ]
    },
    {
      "cell_type": "code",
      "source": [
        "print(mean_absolute_percentage_error(model.predict(x_test), y_test))\n",
        "print(r2_score(model.predict(x_test), y_test))"
      ],
      "metadata": {
        "colab": {
          "base_uri": "https://localhost:8080/"
        },
        "id": "Ji7yP03zy8C3",
        "outputId": "e6a0e561-8bf3-4775-f121-270083c0c951"
      },
      "execution_count": null,
      "outputs": [
        {
          "output_type": "stream",
          "name": "stdout",
          "text": [
            "0.0001696039797551809\n",
            "0.9999997523908005\n"
          ]
        }
      ]
    },
    {
      "cell_type": "code",
      "source": [
        "plt.figure()\n",
        "plt.ylabel('input importance RF',fontsize = 16)\n",
        "plt.bar(range(3),model.feature_importances_,color='b',align = 'center')\n",
        "plt.xticks(range(3),['$L top in channel$','$L bottom in channel$','dt, ms'],fontsize = 18,rotation = 90)\n",
        "#plt.savefig('drive/MyDrive/CA/figures/Chimney_day2_EF_CAE_import.eps', format='eps', bbox_inches='tight')\n",
        "plt.show()"
      ],
      "metadata": {
        "id": "AA1rgsXa18s1"
      },
      "execution_count": null,
      "outputs": []
    },
    {
      "cell_type": "code",
      "source": [
        "model.feature_importances_"
      ],
      "metadata": {
        "colab": {
          "base_uri": "https://localhost:8080/"
        },
        "id": "JHZcR7nYnrX2",
        "outputId": "35aa4877-89d1-4609-8dc5-2f4ffcfb7dda"
      },
      "execution_count": null,
      "outputs": [
        {
          "output_type": "execute_result",
          "data": {
            "text/plain": [
              "array([4.19065014e-07, 1.70780023e-02, 9.82921579e-01])"
            ]
          },
          "metadata": {},
          "execution_count": 15
        }
      ]
    },
    {
      "cell_type": "code",
      "source": [
        "from sklearn.inspection import permutation_importance\n",
        "\n",
        "permutation_importance(clf, X_train, y_train)\n",
        "#plt.barh(['Frequency',  'Particle velocity',  'Kinetic Energy'], model.feature_importances_)\n",
        "plt.barh(['Frequency',  'Particle velocity',  'Kinetic Energy'], model.permutation_importance)\n",
        "plt.xlabel('Feature importance',fontsize = 16)\n",
        "plt.title('Gradient Boosting',fontsize = 18)\n",
        "plt.legend(fontsize = 16)"
      ],
      "metadata": {
        "id": "GhlJbwNHnscq"
      },
      "execution_count": null,
      "outputs": []
    },
    {
      "cell_type": "code",
      "source": [
        "\n",
        "\n",
        "from PIL import Image\n",
        "im = Image.open('drive/MyDrive/SW_img/dymv.gif')\n",
        "\n",
        "# To iterate through the entire gif\n",
        "\n",
        "for i in range(70):\n",
        "  im.seek(im.tell()+1)"
      ],
      "metadata": {
        "id": "mcbOlNmDoBr5"
      },
      "execution_count": null,
      "outputs": []
    },
    {
      "cell_type": "code",
      "source": [
        "result = permutation_importance(model, x_train, y_train)\n",
        "perm_sorted_idx = result.importances_mean.argsort()"
      ],
      "metadata": {
        "id": "rO2klSswNyUH"
      },
      "execution_count": null,
      "outputs": []
    },
    {
      "cell_type": "code",
      "source": [
        "result.importances.shape"
      ],
      "metadata": {
        "id": "vqoODR86N3S6",
        "colab": {
          "base_uri": "https://localhost:8080/"
        },
        "outputId": "ee946431-c772-45f6-de96-c5a71ca0f504"
      },
      "execution_count": null,
      "outputs": [
        {
          "output_type": "execute_result",
          "data": {
            "text/plain": [
              "(3, 5)"
            ]
          },
          "metadata": {},
          "execution_count": 25
        }
      ]
    },
    {
      "cell_type": "code",
      "source": [
        "result.importances_mean"
      ],
      "metadata": {
        "colab": {
          "base_uri": "https://localhost:8080/"
        },
        "id": "pRX6tbEsWi6d",
        "outputId": "f4ca1480-caba-45f5-f316-2acc15b15596"
      },
      "execution_count": null,
      "outputs": [
        {
          "output_type": "execute_result",
          "data": {
            "text/plain": [
              "array([8.41830046e-07, 1.21145541e-02, 2.09700845e+00])"
            ]
          },
          "metadata": {},
          "execution_count": 27
        }
      ]
    },
    {
      "cell_type": "code",
      "source": [
        "result = permutation_importance(model, x_train, y_train, n_repeats=10, random_state=42)\n",
        "perm_sorted_idx = result.importances_mean.argsort()\n",
        "\n",
        "tree_importance_sorted_idx = np.argsort(model.feature_importances_)\n",
        "tree_indices = np.arange(0, len(model.feature_importances_)) + 0.5\n",
        "\n",
        "fig, (ax1, ax2) = plt.subplots(1, 2, figsize=(12, 8))\n",
        "ax1.barh(tree_indices, model.feature_importances_[tree_importance_sorted_idx], height=0.7)\n",
        "ax1.set_yticks(tree_indices)\n",
        "#ax1.set_yticklabels(data.feature_names[tree_importance_sorted_idx])\n",
        "ax1.set_ylim((0, len(model.feature_importances_)))\n",
        "ax2.boxplot(\n",
        "    result.importances[perm_sorted_idx].T,\n",
        "    vert=False,\n",
        "    #labels=data.feature_names[perm_sorted_idx],\n",
        ")\n",
        "fig.tight_layout()\n",
        "plt.show()"
      ],
      "metadata": {
        "colab": {
          "base_uri": "https://localhost:8080/",
          "height": 807
        },
        "id": "SxueS5BfW2s_",
        "outputId": "a974460c-df5f-4993-ad39-8fd61f564634"
      },
      "execution_count": null,
      "outputs": [
        {
          "output_type": "display_data",
          "data": {
            "text/plain": [
              "<Figure size 1200x800 with 2 Axes>"
            ],
            "image/png": "[encoded data removed]"
          },
          "metadata": {}
        }
      ]
    },
    {
      "cell_type": "code",
      "source": [],
      "metadata": {
        "id": "bb0wczstXet0"
      },
      "execution_count": null,
      "outputs": []
    }
  ]
}